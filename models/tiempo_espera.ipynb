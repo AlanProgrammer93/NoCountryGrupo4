{
 "cells": [
  {
   "cell_type": "code",
   "execution_count": 18,
   "id": "07e00762",
   "metadata": {},
   "outputs": [],
   "source": [
    "import pandas as pd\n",
    "import numpy as np\n",
    "import matplotlib.pyplot as plt\n",
    "import seaborn as sns\n",
    "from sklearn.model_selection import train_test_split\n",
    "from xgboost import XGBClassifier\n",
    "from sklearn.metrics import mean_squared_error, r2_score, mean_absolute_error\n",
    "from imblearn.over_sampling import SMOTE"
   ]
  },
  {
   "cell_type": "code",
   "execution_count": 6,
   "id": "dbd57f96",
   "metadata": {},
   "outputs": [
    {
     "data": {
      "text/html": [
       "<div>\n",
       "<style scoped>\n",
       "    .dataframe tbody tr th:only-of-type {\n",
       "        vertical-align: middle;\n",
       "    }\n",
       "\n",
       "    .dataframe tbody tr th {\n",
       "        vertical-align: top;\n",
       "    }\n",
       "\n",
       "    .dataframe thead th {\n",
       "        text-align: right;\n",
       "    }\n",
       "</style>\n",
       "<table border=\"1\" class=\"dataframe\">\n",
       "  <thead>\n",
       "    <tr style=\"text-align: right;\">\n",
       "      <th></th>\n",
       "      <th>message_id</th>\n",
       "      <th>channel_id</th>\n",
       "      <th>user_id</th>\n",
       "      <th>text</th>\n",
       "      <th>created_at</th>\n",
       "      <th>user_name</th>\n",
       "      <th>channel_name</th>\n",
       "      <th>longitud_texto</th>\n",
       "      <th>hora_envio</th>\n",
       "      <th>dia_semana</th>\n",
       "      <th>sentimiento</th>\n",
       "      <th>es_pregunta</th>\n",
       "      <th>tiempo_hasta_respuesta</th>\n",
       "      <th>es_cuello_botella</th>\n",
       "      <th>falta_claridad</th>\n",
       "    </tr>\n",
       "  </thead>\n",
       "  <tbody>\n",
       "    <tr>\n",
       "      <th>0</th>\n",
       "      <td>M0005</td>\n",
       "      <td>C001</td>\n",
       "      <td>U020</td>\n",
       "      <td>¡Feliz viernes equipo! 🎉</td>\n",
       "      <td>2025-06-18 08:17:49+00:00</td>\n",
       "      <td>Angelino Chacón (Data)</td>\n",
       "      <td>general</td>\n",
       "      <td>24</td>\n",
       "      <td>8</td>\n",
       "      <td>2</td>\n",
       "      <td>0.0</td>\n",
       "      <td>False</td>\n",
       "      <td>1418.166667</td>\n",
       "      <td>0</td>\n",
       "      <td>0</td>\n",
       "    </tr>\n",
       "    <tr>\n",
       "      <th>1</th>\n",
       "      <td>M0017</td>\n",
       "      <td>C001</td>\n",
       "      <td>U009</td>\n",
       "      <td>¿Alguien sabe cuándo es la próxima demo? 🔥</td>\n",
       "      <td>2025-06-19 07:55:59+00:00</td>\n",
       "      <td>Teobaldo Carrasco (Frontend)</td>\n",
       "      <td>general</td>\n",
       "      <td>42</td>\n",
       "      <td>7</td>\n",
       "      <td>3</td>\n",
       "      <td>0.0</td>\n",
       "      <td>True</td>\n",
       "      <td>385.116667</td>\n",
       "      <td>1</td>\n",
       "      <td>0</td>\n",
       "    </tr>\n",
       "    <tr>\n",
       "      <th>2</th>\n",
       "      <td>M0011</td>\n",
       "      <td>C001</td>\n",
       "      <td>U010</td>\n",
       "      <td>Recordatorio: reunión de retrospectiva mañana ✅</td>\n",
       "      <td>2025-06-19 14:21:06+00:00</td>\n",
       "      <td>América Manuel (UX/UI)</td>\n",
       "      <td>general</td>\n",
       "      <td>47</td>\n",
       "      <td>14</td>\n",
       "      <td>3</td>\n",
       "      <td>0.0</td>\n",
       "      <td>False</td>\n",
       "      <td>600.800000</td>\n",
       "      <td>0</td>\n",
       "      <td>0</td>\n",
       "    </tr>\n",
       "    <tr>\n",
       "      <th>3</th>\n",
       "      <td>M0013</td>\n",
       "      <td>C001</td>\n",
       "      <td>U005</td>\n",
       "      <td>¡Hola equipo! ¿Cómo van con sus tareas? 💯</td>\n",
       "      <td>2025-06-20 00:21:54+00:00</td>\n",
       "      <td>Ofelia Torrents (DevOps)</td>\n",
       "      <td>general</td>\n",
       "      <td>41</td>\n",
       "      <td>0</td>\n",
       "      <td>4</td>\n",
       "      <td>0.0</td>\n",
       "      <td>True</td>\n",
       "      <td>1336.633333</td>\n",
       "      <td>1</td>\n",
       "      <td>0</td>\n",
       "    </tr>\n",
       "    <tr>\n",
       "      <th>4</th>\n",
       "      <td>M0018</td>\n",
       "      <td>C001</td>\n",
       "      <td>U013</td>\n",
       "      <td>Recordatorio: reunión de retrospectiva mañana</td>\n",
       "      <td>2025-06-20 22:38:32+00:00</td>\n",
       "      <td>Anastasia Batlle (Frontend)</td>\n",
       "      <td>general</td>\n",
       "      <td>45</td>\n",
       "      <td>22</td>\n",
       "      <td>4</td>\n",
       "      <td>0.0</td>\n",
       "      <td>False</td>\n",
       "      <td>475.316667</td>\n",
       "      <td>0</td>\n",
       "      <td>0</td>\n",
       "    </tr>\n",
       "  </tbody>\n",
       "</table>\n",
       "</div>"
      ],
      "text/plain": [
       "  message_id channel_id user_id  \\\n",
       "0      M0005       C001    U020   \n",
       "1      M0017       C001    U009   \n",
       "2      M0011       C001    U010   \n",
       "3      M0013       C001    U005   \n",
       "4      M0018       C001    U013   \n",
       "\n",
       "                                              text                 created_at  \\\n",
       "0                         ¡Feliz viernes equipo! 🎉  2025-06-18 08:17:49+00:00   \n",
       "1       ¿Alguien sabe cuándo es la próxima demo? 🔥  2025-06-19 07:55:59+00:00   \n",
       "2  Recordatorio: reunión de retrospectiva mañana ✅  2025-06-19 14:21:06+00:00   \n",
       "3        ¡Hola equipo! ¿Cómo van con sus tareas? 💯  2025-06-20 00:21:54+00:00   \n",
       "4    Recordatorio: reunión de retrospectiva mañana  2025-06-20 22:38:32+00:00   \n",
       "\n",
       "                      user_name channel_name  longitud_texto  hora_envio  \\\n",
       "0        Angelino Chacón (Data)      general              24           8   \n",
       "1  Teobaldo Carrasco (Frontend)      general              42           7   \n",
       "2        América Manuel (UX/UI)      general              47          14   \n",
       "3      Ofelia Torrents (DevOps)      general              41           0   \n",
       "4   Anastasia Batlle (Frontend)      general              45          22   \n",
       "\n",
       "   dia_semana  sentimiento  es_pregunta  tiempo_hasta_respuesta  \\\n",
       "0           2          0.0        False             1418.166667   \n",
       "1           3          0.0         True              385.116667   \n",
       "2           3          0.0        False              600.800000   \n",
       "3           4          0.0         True             1336.633333   \n",
       "4           4          0.0        False              475.316667   \n",
       "\n",
       "   es_cuello_botella  falta_claridad  \n",
       "0                  0               0  \n",
       "1                  1               0  \n",
       "2                  0               0  \n",
       "3                  1               0  \n",
       "4                  0               0  "
      ]
     },
     "execution_count": 6,
     "metadata": {},
     "output_type": "execute_result"
    }
   ],
   "source": [
    "ruta = \".\\datos_mesagges.csv\"\n",
    "df = pd.read_csv(ruta, encoding = 'utf-8')\n",
    "df.head()"
   ]
  },
  {
   "cell_type": "markdown",
   "id": "e1ea014d",
   "metadata": {},
   "source": [
    "Creación del modelo: Optimizar tiempos de respuesta"
   ]
  },
  {
   "cell_type": "code",
   "execution_count": 7,
   "id": "b50e5a3d",
   "metadata": {},
   "outputs": [],
   "source": [
    "df['mean_tiempo_usuario'] = df.groupby('user_id')['tiempo_hasta_respuesta'].transform('mean')"
   ]
  },
  {
   "cell_type": "code",
   "execution_count": 8,
   "id": "ac5c1f9d",
   "metadata": {},
   "outputs": [],
   "source": [
    "X = df[['hora_envio', 'dia_semana', 'es_pregunta', 'mean_tiempo_usuario']]\n",
    "y = df['tiempo_hasta_respuesta'].fillna(0)  \n",
    "\n",
    "smote = SMOTE(random_state=42)\n",
    "\n",
    "X_train, X_test, y_train, y_test = train_test_split(X, y, test_size=0.3, random_state=42)"
   ]
  },
  {
   "cell_type": "code",
   "execution_count": 9,
   "id": "94a3d949",
   "metadata": {},
   "outputs": [
    {
     "name": "stdout",
     "output_type": "stream",
     "text": [
      "La forma de X_train es:  (168, 4)\n",
      "La forma de y_train es:  (168,)\n",
      "La forma de X_test es:  (73, 4)\n",
      "La forma de y_test es:  (73,)\n"
     ]
    }
   ],
   "source": [
    "print('La forma de X_train es: ', X_train.shape)\n",
    "print('La forma de y_train es: ', y_train.shape)\n",
    "print('La forma de X_test es: ', X_test.shape)\n",
    "print('La forma de y_test es: ', y_test.shape)"
   ]
  },
  {
   "cell_type": "code",
   "execution_count": 12,
   "id": "3f43fe5d",
   "metadata": {},
   "outputs": [],
   "source": [
    "from sklearn.ensemble import RandomForestRegressor\n",
    "modelo_tiempos = RandomForestRegressor().fit(X, y)"
   ]
  },
  {
   "cell_type": "code",
   "execution_count": 19,
   "id": "eb41aa43",
   "metadata": {},
   "outputs": [
    {
     "name": "stdout",
     "output_type": "stream",
     "text": [
      "MAE: 260.63 minutos | RMSE: 337.95 minutos | R²: 0.83\n"
     ]
    },
    {
     "name": "stderr",
     "output_type": "stream",
     "text": [
      "c:\\Users\\Equipo\\AppData\\Local\\Programs\\Python\\Python311\\Lib\\site-packages\\sklearn\\metrics\\_regression.py:492: FutureWarning: 'squared' is deprecated in version 1.4 and will be removed in 1.6. To calculate the root mean squared error, use the function'root_mean_squared_error'.\n",
      "  warnings.warn(\n"
     ]
    }
   ],
   "source": [
    "y_pred = modelo_tiempos.predict(X_test)\n",
    "\n",
    "\n",
    "mae = mean_absolute_error(y_test, y_pred)\n",
    "rmse = mean_squared_error(y_test, y_pred, squared=False)\n",
    "r2 = r2_score(y_test, y_pred)\n",
    "\n",
    "print(f\"MAE: {mae:.2f} minutos | RMSE: {rmse:.2f} minutos | R²: {r2:.2f}\")"
   ]
  },
  {
   "cell_type": "code",
   "execution_count": null,
   "id": "9f5c3dfb",
   "metadata": {},
   "outputs": [
    {
     "name": "stdout",
     "output_type": "stream",
     "text": [
      "RMSE promedio en validación cruzada: 903.2582768000908\n"
     ]
    }
   ],
   "source": [
    "from sklearn.model_selection import cross_val_score\n",
    "\n",
    "#Esta sobreajustando\n",
    "scores = cross_val_score(modelo_tiempos, X, y, cv=5, scoring='neg_mean_squared_error')\n",
    "print(\"RMSE promedio en validación cruzada:\", np.sqrt(-scores.mean()))"
   ]
  },
  {
   "cell_type": "code",
   "execution_count": null,
   "id": "03fe90ca",
   "metadata": {},
   "outputs": [
    {
     "data": {
      "image/png": "[encoded data removed]",
      "text/plain": [
       "<Figure size 640x480 with 1 Axes>"
      ]
     },
     "metadata": {},
     "output_type": "display_data"
    }
   ],
   "source": [
    "\n",
    "plt.scatter(y_test, y_pred, alpha=0.5)\n",
    "plt.xlabel(\"Tiempo real\")\n",
    "plt.ylabel(\"Tiempo predicho\")\n",
    "plt.plot([y.min(), y.max()], [y.min(), y.max()], 'r--')  \n",
    "plt.show()"
   ]
  }
 ],
 "metadata": {
  "kernelspec": {
   "display_name": "Python 3",
   "language": "python",
   "name": "python3"
  },
  "language_info": {
   "codemirror_mode": {
    "name": "ipython",
    "version": 3
   },
   "file_extension": ".py",
   "mimetype": "text/x-python",
   "name": "python",
   "nbconvert_exporter": "python",
   "pygments_lexer": "ipython3",
   "version": "3.11.5"
  }
 },
 "nbformat": 4,
 "nbformat_minor": 5
}
